{
 "cells": [
  {
   "cell_type": "markdown",
   "metadata": {},
   "source": [
    "# List vs Numpy array "
   ]
  },
  {
   "cell_type": "code",
   "execution_count": 1,
   "metadata": {},
   "outputs": [
    {
     "name": "stdout",
     "output_type": "stream",
     "text": [
      "Python list multiplication [1, 2, 3, 1, 2, 3]\n",
      "Numpy array multiplication [2 4 6]\n"
     ]
    }
   ],
   "source": [
    "import numpy as np\n",
    "py_list = [1,2,3]\n",
    "print(\"Python list multiplication\", py_list * 2)  # Here 2 is scaler quantity.\n",
    "\n",
    "np_array = np.array([1,2,3])\n",
    "print(\"Numpy array multiplication\", np_array * 2)  # Here 2 is scaler quantity."
   ]
  },
  {
   "cell_type": "code",
   "execution_count": 2,
   "metadata": {},
   "outputs": [
    {
     "name": "stdout",
     "output_type": "stream",
     "text": [
      "Python list time 0.06275701522827148\n",
      "Numpy array time 0.002295970916748047\n"
     ]
    }
   ],
   "source": [
    "import time \n",
    "start = time.time()\n",
    "py_list = [i for i in range(1000000)]\n",
    "py_list = [i*2 for i in py_list]\n",
    "print(\"Python list time\", time.time() - start)\n",
    "\n",
    "start = time.time()\n",
    "np_array = np.arange(1000000)\n",
    "np_array = np_array * 2\n",
    "print(\"Numpy array time\", time.time() - start)"
   ]
  },
  {
   "cell_type": "markdown",
   "metadata": {},
   "source": [
    "## Vector, Matrix and Tensor \n"
   ]
  },
  {
   "cell_type": "code",
   "execution_count": 4,
   "metadata": {},
   "outputs": [
    {
     "name": "stdout",
     "output_type": "stream",
     "text": [
      "Vector [1 2 3]\n",
      "Matrix [[1 2 3]\n",
      " [4 5 6]\n",
      " [7 8 9]]\n",
      "Tensor [[[ 1  2]\n",
      "  [ 3  4]\n",
      "  [ 5  6]]\n",
      "\n",
      " [[ 7  8]\n",
      "  [ 9 10]\n",
      "  [11 12]]]\n"
     ]
    }
   ],
   "source": [
    "vector = np.array([1,2,3])\n",
    "print(\"Vector\", vector)\n",
    "\n",
    "matrix = np.array([[1,2,3], [4,5,6], [7,8,9]])\n",
    "print(\"Matrix\", matrix)\n",
    "\n",
    "tensor = np.array ([[[1,2], [3,4], \n",
    "                     [5,6]], [[7,8], \n",
    "                    [9,10], [11,12]]])\n",
    "print(\"Tensor\", tensor)\n",
    "                    "
   ]
  }
 ],
 "metadata": {
  "kernelspec": {
   "display_name": "venv",
   "language": "python",
   "name": "python3"
  },
  "language_info": {
   "codemirror_mode": {
    "name": "ipython",
    "version": 3
   },
   "file_extension": ".py",
   "mimetype": "text/x-python",
   "name": "python",
   "nbconvert_exporter": "python",
   "pygments_lexer": "ipython3",
   "version": "3.12.1"
  }
 },
 "nbformat": 4,
 "nbformat_minor": 2
}

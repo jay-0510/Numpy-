{
 "cells": [
  {
   "cell_type": "markdown",
   "metadata": {},
   "source": [
    "## Numpy Array Operations"
   ]
  },
  {
   "cell_type": "code",
   "execution_count": 1,
   "metadata": {},
   "outputs": [],
   "source": [
    "import numpy as np\n"
   ]
  },
  {
   "cell_type": "markdown",
   "metadata": {},
   "source": [
    "## Slicing Array in Numpy"
   ]
  },
  {
   "cell_type": "code",
   "execution_count": 2,
   "metadata": {},
   "outputs": [
    {
     "name": "stdout",
     "output_type": "stream",
     "text": [
      "Basic slicing [2 3 4]\n",
      "step slicing [2 4]\n",
      "Negative slicing [3 4]\n",
      "Negative slicing [3 4 5]\n"
     ]
    }
   ],
   "source": [
    "arr = np.array([1, 2, 3, 4, 5])\n",
    "print(\"Basic slicing\", arr[1:4])\n",
    "print(\"step slicing\", arr[1:4:2])\n",
    "print(\"Negative slicing\", arr[-3:-1])\n",
    "print(\"Negative slicing\", arr[-3:])"
   ]
  },
  {
   "cell_type": "code",
   "execution_count": 5,
   "metadata": {},
   "outputs": [
    {
     "name": "stdout",
     "output_type": "stream",
     "text": [
      "2D slicing 8\n",
      "Entir row [ 6  7  8  9 10]\n",
      "Entir column [2 7]\n"
     ]
    }
   ],
   "source": [
    "# 2D Arrays Slicing \n",
    "arr = np.array([[1, 2, 3, 4, 5], [6, 7, 8, 9, 10]])\n",
    "print(\"2D slicing\", arr[1,2])\n",
    "print(\"Entir row\", arr[1, :])\n",
    "print(\"Entir column\", arr[:, 1])"
   ]
  },
  {
   "cell_type": "markdown",
   "metadata": {},
   "source": [
    "## Sorting Arrays in Numpy\n"
   ]
  },
  {
   "cell_type": "code",
   "execution_count": null,
   "metadata": {},
   "outputs": [
    {
     "name": "stdout",
     "output_type": "stream",
     "text": [
      "Sorted array [0 1 2 3]\n",
      "Sorted 2D array [[2 3 4]\n",
      " [0 1 5]]\n"
     ]
    }
   ],
   "source": [
    "# np.sort - returns a sorted copy of an array\n",
    "unsorted_arr = np.array([3, 2, 0, 1])\n",
    "print(\"Sorted array\", np.sort(unsorted_arr))\n",
    "\n",
    "arr_2d = np.array([[3, 2, 4], [5, 0, 1]])\n",
    "print(\"Sorted 2D array\", np.sort(arr_2d))"
   ]
  },
  {
   "cell_type": "markdown",
   "metadata": {},
   "source": [
    "## Filtering in Numpy "
   ]
  },
  {
   "cell_type": "code",
   "execution_count": 8,
   "metadata": {},
   "outputs": [
    {
     "name": "stdout",
     "output_type": "stream",
     "text": [
      "Mean 10.615384615384615\n",
      "Even numbers [ 2  4  6  8 10 12 44]\n"
     ]
    }
   ],
   "source": [
    "numbers = np.array([1,2,3,4,5,6,7,8,9,10,12,44,27])\n",
    "print(\"Mean\", np.mean(numbers))\n",
    "even_number = numbers [numbers % 2 == 0]\n",
    "print(\"Even numbers\", even_number)"
   ]
  },
  {
   "cell_type": "markdown",
   "metadata": {},
   "source": [
    "## Filter with Mask\n",
    "Its an expression to evaluate the numbers. \n",
    "Pura expression for a evaluation store ho rha hai in MASK."
   ]
  },
  {
   "cell_type": "code",
   "execution_count": 10,
   "metadata": {},
   "outputs": [
    {
     "name": "stdout",
     "output_type": "stream",
     "text": [
      "[False False False  True  True  True  True False False False False False\n",
      " False]\n",
      " Numbers greater than 5 [ 6  7  8  9 10 12 44 27]\n"
     ]
    }
   ],
   "source": [
    "mask = (numbers > 3) & (numbers < 8)\n",
    "print(mask)\n",
    "\n",
    "mask = numbers > 5\n",
    "print(\" Numbers greater than 5\" , numbers[mask])\n"
   ]
  }
 ],
 "metadata": {
  "kernelspec": {
   "display_name": "venv",
   "language": "python",
   "name": "python3"
  },
  "language_info": {
   "codemirror_mode": {
    "name": "ipython",
    "version": 3
   },
   "file_extension": ".py",
   "mimetype": "text/x-python",
   "name": "python",
   "nbconvert_exporter": "python",
   "pygments_lexer": "ipython3",
   "version": "3.12.1"
  }
 },
 "nbformat": 4,
 "nbformat_minor": 2
}

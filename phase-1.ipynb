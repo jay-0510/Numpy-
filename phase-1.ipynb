{
 "cells": [
  {
   "cell_type": "markdown",
   "metadata": {},
   "source": [
    "## Numpy Arrays and Basics\n",
    "NumPy arrays are the core data structure in NumPy. They are similar to Python lists. \n",
    "NumPy is a powerful Python library used for numerical computing.\n",
    "It provides support for large, multi-dimensional arrays and matrices\n",
    "Its a collection of mathematical functions to operate on these arrays efficiently."
   ]
  },
  {
   "cell_type": "code",
   "execution_count": 2,
   "metadata": {},
   "outputs": [
    {
     "name": "stdout",
     "output_type": "stream",
     "text": [
      "[1 2 3 4 5]\n",
      "<class 'numpy.ndarray'>\n"
     ]
    }
   ],
   "source": [
    "import numpy as np\n",
    "# Creating a 1D NumPy array from a list\n",
    "arr = np.array([1, 2, 3, 4, 5])\n",
    "print(arr)\n",
    "print(type(arr))"
   ]
  },
  {
   "cell_type": "code",
   "execution_count": 3,
   "metadata": {},
   "outputs": [
    {
     "name": "stdout",
     "output_type": "stream",
     "text": [
      "[[1 2 3]\n",
      " [4 5 6]]\n"
     ]
    }
   ],
   "source": [
    "# CREATING 2D NUMPY ARRAY\n",
    "arr_2d = np.array([[1, 2, 3], [4, 5, 6]])\n",
    "print(arr_2d)"
   ]
  },
  {
   "cell_type": "code",
   "execution_count": null,
   "metadata": {},
   "outputs": [
    {
     "name": "stdout",
     "output_type": "stream",
     "text": [
      "[[0. 0. 0.]\n",
      " [0. 0. 0.]\n",
      " [0. 0. 0.]]\n"
     ]
    }
   ],
   "source": [
    "# np.zeros(shape): Creates an array filled with zeros.\n",
    "#CREATING ARRAYS WITH ZEROES\n",
    "zeros_array = np.zeros((3, 3))  # 3x3 array filled with zeros\n",
    "print(zeros_array)"
   ]
  },
  {
   "cell_type": "code",
   "execution_count": null,
   "metadata": {},
   "outputs": [
    {
     "name": "stdout",
     "output_type": "stream",
     "text": [
      "[[1. 1. 1.]\n",
      " [1. 1. 1.]\n",
      " [1. 1. 1.]]\n"
     ]
    }
   ],
   "source": [
    "# np.ones(shape): Creates an array filled with ones.\n",
    "#CREATING ARRAYS WITH ONES\n",
    "ones_array = np.ones((3, 3))  # 3x3 array filled with ones\n",
    "print(ones_array)"
   ]
  },
  {
   "cell_type": "code",
   "execution_count": 6,
   "metadata": {},
   "outputs": [
    {
     "name": "stdout",
     "output_type": "stream",
     "text": [
      "[1 2 3 4 5 6 7 8 9]\n"
     ]
    }
   ],
   "source": [
    "#CREATING ARRAYS WITH A RANGE OF NUMBERS\n",
    "range_array = np.arange(1, 10)  # Array with numbers from 1 to 9\n",
    "print(range_array)"
   ]
  },
  {
   "cell_type": "code",
   "execution_count": 7,
   "metadata": {},
   "outputs": [
    {
     "name": "stdout",
     "output_type": "stream",
     "text": [
      "[[0.83160511 0.94790531 0.91834932]\n",
      " [0.55451036 0.9950654  0.96452652]\n",
      " [0.71063799 0.63527442 0.12143048]]\n"
     ]
    }
   ],
   "source": [
    "#CREATING ARRAYS WITH RANDOM NUMBERS\n",
    "random_array = np.random.rand(3, 3)  # 3x3 matrix with random values\n",
    "print(random_array)"
   ]
  },
  {
   "cell_type": "code",
   "execution_count": 8,
   "metadata": {},
   "outputs": [
    {
     "name": "stdout",
     "output_type": "stream",
     "text": [
      "[[0.83160511 0.94790531 0.91834932]\n",
      " [0.55451036 0.9950654  0.96452652]\n",
      " [0.71063799 0.63527442 0.12143048]]\n"
     ]
    }
   ],
   "source": [
    "# np.empty(shape): Creates an uninitialized array (contains garbage values).\n",
    "#CREATING AN EMPTY ARRAY\n",
    "empty_array = np.empty((3, 3))\n",
    "print(empty_array)"
   ]
  },
  {
   "cell_type": "code",
   "execution_count": 9,
   "metadata": {},
   "outputs": [
    {
     "name": "stdout",
     "output_type": "stream",
     "text": [
      "[[5 5 5]\n",
      " [5 5 5]\n",
      " [5 5 5]]\n"
     ]
    }
   ],
   "source": [
    "# Full array - sab mein constant milega \n",
    "full_array = np.full((3, 3), 5)  # 3x3 array filled with 5s\n",
    "print(full_array)"
   ]
  }
 ],
 "metadata": {
  "kernelspec": {
   "display_name": "venv",
   "language": "python",
   "name": "python3"
  },
  "language_info": {
   "codemirror_mode": {
    "name": "ipython",
    "version": 3
   },
   "file_extension": ".py",
   "mimetype": "text/x-python",
   "name": "python",
   "nbconvert_exporter": "python",
   "pygments_lexer": "ipython3",
   "version": "3.12.1"
  }
 },
 "nbformat": 4,
 "nbformat_minor": 2
}

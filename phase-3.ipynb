{
 "cells": [
  {
   "cell_type": "markdown",
   "metadata": {},
   "source": [
    "## Arrays Properties"
   ]
  },
  {
   "cell_type": "code",
   "execution_count": 1,
   "metadata": {},
   "outputs": [
    {
     "name": "stdout",
     "output_type": "stream",
     "text": [
      "Shape (2, 3)\n",
      "Dimension 2\n",
      "Data type int64\n",
      "Size 6\n"
     ]
    }
   ],
   "source": [
    "import numpy as np\n",
    "\n",
    "arr = np.array ([[1,2,3],\n",
    "                 [4,5,6]])\n",
    "print(\"Shape\", arr.shape)\n",
    "print(\"Dimension\", arr.ndim)        #ndim - number of dimensions\n",
    "print(\"Data type\", arr.dtype)       #dtype - data type\n",
    "print(\"Size\", arr.size)             #size - number of elements"
   ]
  },
  {
   "cell_type": "markdown",
   "metadata": {},
   "source": [
    "## Array Reshaping "
   ]
  },
  {
   "cell_type": "code",
   "execution_count": null,
   "metadata": {},
   "outputs": [
    {
     "name": "stdout",
     "output_type": "stream",
     "text": [
      "Original array [ 0  1  2  3  4  5  6  7  8  9 10 11]\n",
      "Reshaped array [[ 0  1  2  3]\n",
      " [ 4  5  6  7]\n",
      " [ 8  9 10 11]]\n",
      "Flattened array [ 0  1  2  3  4  5  6  7  8  9 10 11]\n",
      "Raveled array [ 0  1  2  3  4  5  6  7  8  9 10 11]\n",
      "Transposed array [[ 0  4  8]\n",
      " [ 1  5  9]\n",
      " [ 2  6 10]\n",
      " [ 3  7 11]]\n"
     ]
    }
   ],
   "source": [
    "arr = np.arange (12)\n",
    "print(\"Original array\", arr)\n",
    "\n",
    "reshaped_arr = arr.reshape(3,4)\n",
    "print(\"Reshaped array\", reshaped_arr)\n",
    "\n",
    "flatten_arr = reshaped_arr.flatten()\n",
    "print(\"Flattened array\", flatten_arr)\n",
    "\n",
    "# ravel() function is similar to flatten() function\n",
    "# returns view instead of copy\n",
    "ravel_arr = reshaped_arr.ravel()\n",
    "print(\"Raveled array\", ravel_arr)\n",
    "\n",
    "transpose_arr = reshaped_arr.T     #T - transpose - swaps the rows and columns of the array. \n",
    "print(\"Transposed array\", transpose_arr)\n"
   ]
  }
 ],
 "metadata": {
  "kernelspec": {
   "display_name": "venv",
   "language": "python",
   "name": "python3"
  },
  "language_info": {
   "codemirror_mode": {
    "name": "ipython",
    "version": 3
   },
   "file_extension": ".py",
   "mimetype": "text/x-python",
   "name": "python",
   "nbconvert_exporter": "python",
   "pygments_lexer": "ipython3",
   "version": "3.12.1"
  }
 },
 "nbformat": 4,
 "nbformat_minor": 2
}
